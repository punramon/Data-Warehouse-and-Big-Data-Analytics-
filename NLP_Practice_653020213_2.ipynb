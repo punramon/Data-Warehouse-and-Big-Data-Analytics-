{
  "cells": [
    {
      "cell_type": "markdown",
      "metadata": {
        "id": "view-in-github",
        "colab_type": "text"
      },
      "source": [
        "<a href=\"https://colab.research.google.com/github/punramon/Data-Warehouse-and-Big-Data-Analytics-/blob/main/NLP_Practice_653020213_2.ipynb\" target=\"_parent\"><img src=\"https://colab.research.google.com/assets/colab-badge.svg\" alt=\"Open In Colab\"/></a>"
      ]
    },
    {
      "cell_type": "markdown",
      "metadata": {
        "id": "r04VJAMBcWkJ"
      },
      "source": [
        "1) ให้ลบเครื่องหมายวรรคตอนออกจากเพลงต่อไปนี้ให้หมด (punctuation) เช่น , หรือ !"
      ]
    },
    {
      "cell_type": "code",
      "source": [
        "import re"
      ],
      "metadata": {
        "id": "FuiqrRS7ITws"
      },
      "execution_count": 1,
      "outputs": []
    },
    {
      "cell_type": "code",
      "execution_count": 2,
      "metadata": {
        "colab": {
          "base_uri": "https://localhost:8080/"
        },
        "id": "WeMXdvpXZytk",
        "outputId": "78184bca-b67d-4b6b-a024-29d103ab04aa"
      },
      "outputs": [
        {
          "output_type": "stream",
          "name": "stdout",
          "text": [
            "Fly me to the moon\n",
            "Let me play among the stars        \n",
            "Let me see what spring is like on        \n",
            "A-Jupiter and Mars\n",
            "In other words, hold my hand        \n",
            "In other words, baby, kiss me        \n",
            "Fill my heart with song and let me sing forevermore        \n",
            "You are all I long for        \n",
            "All I worship and adore        \n",
            "In other words, please be true        \n",
            "In other words, I love You        \n",
            "Fill my heart with song        \n",
            "Let me sing forevermore        \n",
            "You are all I long for, all I worship and adore        \n",
            "In other words, please be true        \n",
            "In other words        \n",
            "In other words        \n",
            "I LOVE YOU!\n"
          ]
        }
      ],
      "source": [
        "song = \"Fly me to the moon\\nLet me play among the stars\\\n",
        "        \\nLet me see what spring is like on\\\n",
        "        \\nA-Jupiter and Mars\\nIn other words, hold my hand\\\n",
        "        \\nIn other words, baby, kiss me\\\n",
        "        \\nFill my heart with song and let me sing forevermore\\\n",
        "        \\nYou are all I long for\\\n",
        "        \\nAll I worship and adore\\\n",
        "        \\nIn other words, please be true\\\n",
        "        \\nIn other words, I love You\\\n",
        "        \\nFill my heart with song\\\n",
        "        \\nLet me sing forevermore\\\n",
        "        \\nYou are all I long for, all I worship and adore\\\n",
        "        \\nIn other words, please be true\\\n",
        "        \\nIn other words\\\n",
        "        \\nIn other words\\\n",
        "        \\nI LOVE YOU!\"\n",
        "print(song)"
      ]
    },
    {
      "cell_type": "code",
      "source": [
        "# ลบเครื่องหมายวรรคตอนออกจากเพลง\n",
        "song_no_punctuation = re.sub(r'[^\\w\\s]', '', song)\n",
        "print(song_no_punctuation)"
      ],
      "metadata": {
        "colab": {
          "base_uri": "https://localhost:8080/"
        },
        "id": "e996FjMAIPYL",
        "outputId": "32d70810-d631-4322-8214-66f610504b48"
      },
      "execution_count": 4,
      "outputs": [
        {
          "output_type": "stream",
          "name": "stdout",
          "text": [
            "Fly me to the moon\n",
            "Let me play among the stars        \n",
            "Let me see what spring is like on        \n",
            "AJupiter and Mars\n",
            "In other words hold my hand        \n",
            "In other words baby kiss me        \n",
            "Fill my heart with song and let me sing forevermore        \n",
            "You are all I long for        \n",
            "All I worship and adore        \n",
            "In other words please be true        \n",
            "In other words I love You        \n",
            "Fill my heart with song        \n",
            "Let me sing forevermore        \n",
            "You are all I long for all I worship and adore        \n",
            "In other words please be true        \n",
            "In other words        \n",
            "In other words        \n",
            "I LOVE YOU\n"
          ]
        }
      ]
    },
    {
      "cell_type": "markdown",
      "source": [
        "\n",
        "\n",
        "---\n",
        "\n"
      ],
      "metadata": {
        "id": "tmJUtyn_I96M"
      }
    },
    {
      "cell_type": "markdown",
      "metadata": {
        "id": "6RN2pwEKdjdv"
      },
      "source": [
        "2) นับคำว่ารัก (love) ทั้งหมดในเพลงดังกล่าว รวมคำที่เขียนด้วยตัวอักษรทั้งพิมพ์ใหญ่และพิมพ์เล็ก"
      ]
    },
    {
      "cell_type": "code",
      "source": [
        "love_count = song_no_punctuation.lower().split().count(\"love\")\n",
        "print(f\"คำว่า 'love' ปรากฏในเพลง {love_count} ครั้ง\")"
      ],
      "metadata": {
        "colab": {
          "base_uri": "https://localhost:8080/"
        },
        "id": "4MGf05RfJHCe",
        "outputId": "1448b3e6-f73d-4865-9a4b-5a75f4d8a6a8"
      },
      "execution_count": 5,
      "outputs": [
        {
          "output_type": "stream",
          "name": "stdout",
          "text": [
            "คำว่า 'love' ปรากฏในเพลง 2 ครั้ง\n"
          ]
        }
      ]
    },
    {
      "cell_type": "markdown",
      "source": [
        "\n",
        "\n",
        "---\n",
        "\n"
      ],
      "metadata": {
        "id": "JMEJg6-3JBFw"
      }
    },
    {
      "cell_type": "markdown",
      "metadata": {
        "id": "gVxf2cBzgPhN"
      },
      "source": [
        "3) จากข้อมูลต่อไปนี้ สร้างคอลัมน์ใหม่ ได้แก่ Firstname, Lastname, Weekday และ Country\n",
        "* Firstname แยกชื่อจาก Fullname\n",
        "* Lastname แยกนามสกุลจาก Fullname\n",
        "* Weekday วันเกิดคือวันอะไร (Monday - Sunday)\n",
        "* Country แยกประเทศจาก Address"
      ]
    },
    {
      "cell_type": "code",
      "execution_count": 31,
      "metadata": {
        "colab": {
          "base_uri": "https://localhost:8080/",
          "height": 175
        },
        "id": "DoTKusS3gLrq",
        "outputId": "473b5fd1-36fa-4b6c-dd98-de9e9823050e"
      },
      "outputs": [
        {
          "output_type": "execute_result",
          "data": {
            "text/plain": [
              "        Fullname   Birthdate                                       Address\n",
              "0  Pitch Wiratch  15/05/2015   555 KKU Village, Khon Kaen, Thailand, 40000\n",
              "1     Sam Sonite  10/03/1910  13-15 avenue de la Liberté, Luxembourg, 1931\n",
              "2   Mickey Mouse  18/11/1928         1375 Lake Buena Vista, FL, USA, 32830\n",
              "3   Felonius Gru  28/09/1960      1234 Albuquerque, New Mexico, USA, 87777"
            ],
            "text/html": [
              "\n",
              "  <div id=\"df-376ad3ea-71d2-4bfe-85c5-0383d6338abb\" class=\"colab-df-container\">\n",
              "    <div>\n",
              "<style scoped>\n",
              "    .dataframe tbody tr th:only-of-type {\n",
              "        vertical-align: middle;\n",
              "    }\n",
              "\n",
              "    .dataframe tbody tr th {\n",
              "        vertical-align: top;\n",
              "    }\n",
              "\n",
              "    .dataframe thead th {\n",
              "        text-align: right;\n",
              "    }\n",
              "</style>\n",
              "<table border=\"1\" class=\"dataframe\">\n",
              "  <thead>\n",
              "    <tr style=\"text-align: right;\">\n",
              "      <th></th>\n",
              "      <th>Fullname</th>\n",
              "      <th>Birthdate</th>\n",
              "      <th>Address</th>\n",
              "    </tr>\n",
              "  </thead>\n",
              "  <tbody>\n",
              "    <tr>\n",
              "      <th>0</th>\n",
              "      <td>Pitch Wiratch</td>\n",
              "      <td>15/05/2015</td>\n",
              "      <td>555 KKU Village, Khon Kaen, Thailand, 40000</td>\n",
              "    </tr>\n",
              "    <tr>\n",
              "      <th>1</th>\n",
              "      <td>Sam Sonite</td>\n",
              "      <td>10/03/1910</td>\n",
              "      <td>13-15 avenue de la Liberté, Luxembourg, 1931</td>\n",
              "    </tr>\n",
              "    <tr>\n",
              "      <th>2</th>\n",
              "      <td>Mickey Mouse</td>\n",
              "      <td>18/11/1928</td>\n",
              "      <td>1375 Lake Buena Vista, FL, USA, 32830</td>\n",
              "    </tr>\n",
              "    <tr>\n",
              "      <th>3</th>\n",
              "      <td>Felonius Gru</td>\n",
              "      <td>28/09/1960</td>\n",
              "      <td>1234 Albuquerque, New Mexico, USA, 87777</td>\n",
              "    </tr>\n",
              "  </tbody>\n",
              "</table>\n",
              "</div>\n",
              "    <div class=\"colab-df-buttons\">\n",
              "\n",
              "  <div class=\"colab-df-container\">\n",
              "    <button class=\"colab-df-convert\" onclick=\"convertToInteractive('df-376ad3ea-71d2-4bfe-85c5-0383d6338abb')\"\n",
              "            title=\"Convert this dataframe to an interactive table.\"\n",
              "            style=\"display:none;\">\n",
              "\n",
              "  <svg xmlns=\"http://www.w3.org/2000/svg\" height=\"24px\" viewBox=\"0 -960 960 960\">\n",
              "    <path d=\"M120-120v-720h720v720H120Zm60-500h600v-160H180v160Zm220 220h160v-160H400v160Zm0 220h160v-160H400v160ZM180-400h160v-160H180v160Zm440 0h160v-160H620v160ZM180-180h160v-160H180v160Zm440 0h160v-160H620v160Z\"/>\n",
              "  </svg>\n",
              "    </button>\n",
              "\n",
              "  <style>\n",
              "    .colab-df-container {\n",
              "      display:flex;\n",
              "      gap: 12px;\n",
              "    }\n",
              "\n",
              "    .colab-df-convert {\n",
              "      background-color: #E8F0FE;\n",
              "      border: none;\n",
              "      border-radius: 50%;\n",
              "      cursor: pointer;\n",
              "      display: none;\n",
              "      fill: #1967D2;\n",
              "      height: 32px;\n",
              "      padding: 0 0 0 0;\n",
              "      width: 32px;\n",
              "    }\n",
              "\n",
              "    .colab-df-convert:hover {\n",
              "      background-color: #E2EBFA;\n",
              "      box-shadow: 0px 1px 2px rgba(60, 64, 67, 0.3), 0px 1px 3px 1px rgba(60, 64, 67, 0.15);\n",
              "      fill: #174EA6;\n",
              "    }\n",
              "\n",
              "    .colab-df-buttons div {\n",
              "      margin-bottom: 4px;\n",
              "    }\n",
              "\n",
              "    [theme=dark] .colab-df-convert {\n",
              "      background-color: #3B4455;\n",
              "      fill: #D2E3FC;\n",
              "    }\n",
              "\n",
              "    [theme=dark] .colab-df-convert:hover {\n",
              "      background-color: #434B5C;\n",
              "      box-shadow: 0px 1px 3px 1px rgba(0, 0, 0, 0.15);\n",
              "      filter: drop-shadow(0px 1px 2px rgba(0, 0, 0, 0.3));\n",
              "      fill: #FFFFFF;\n",
              "    }\n",
              "  </style>\n",
              "\n",
              "    <script>\n",
              "      const buttonEl =\n",
              "        document.querySelector('#df-376ad3ea-71d2-4bfe-85c5-0383d6338abb button.colab-df-convert');\n",
              "      buttonEl.style.display =\n",
              "        google.colab.kernel.accessAllowed ? 'block' : 'none';\n",
              "\n",
              "      async function convertToInteractive(key) {\n",
              "        const element = document.querySelector('#df-376ad3ea-71d2-4bfe-85c5-0383d6338abb');\n",
              "        const dataTable =\n",
              "          await google.colab.kernel.invokeFunction('convertToInteractive',\n",
              "                                                    [key], {});\n",
              "        if (!dataTable) return;\n",
              "\n",
              "        const docLinkHtml = 'Like what you see? Visit the ' +\n",
              "          '<a target=\"_blank\" href=https://colab.research.google.com/notebooks/data_table.ipynb>data table notebook</a>'\n",
              "          + ' to learn more about interactive tables.';\n",
              "        element.innerHTML = '';\n",
              "        dataTable['output_type'] = 'display_data';\n",
              "        await google.colab.output.renderOutput(dataTable, element);\n",
              "        const docLink = document.createElement('div');\n",
              "        docLink.innerHTML = docLinkHtml;\n",
              "        element.appendChild(docLink);\n",
              "      }\n",
              "    </script>\n",
              "  </div>\n",
              "\n",
              "\n",
              "<div id=\"df-9f4b6d01-3655-41af-a25a-d57b9c012e84\">\n",
              "  <button class=\"colab-df-quickchart\" onclick=\"quickchart('df-9f4b6d01-3655-41af-a25a-d57b9c012e84')\"\n",
              "            title=\"Suggest charts\"\n",
              "            style=\"display:none;\">\n",
              "\n",
              "<svg xmlns=\"http://www.w3.org/2000/svg\" height=\"24px\"viewBox=\"0 0 24 24\"\n",
              "     width=\"24px\">\n",
              "    <g>\n",
              "        <path d=\"M19 3H5c-1.1 0-2 .9-2 2v14c0 1.1.9 2 2 2h14c1.1 0 2-.9 2-2V5c0-1.1-.9-2-2-2zM9 17H7v-7h2v7zm4 0h-2V7h2v10zm4 0h-2v-4h2v4z\"/>\n",
              "    </g>\n",
              "</svg>\n",
              "  </button>\n",
              "\n",
              "<style>\n",
              "  .colab-df-quickchart {\n",
              "      --bg-color: #E8F0FE;\n",
              "      --fill-color: #1967D2;\n",
              "      --hover-bg-color: #E2EBFA;\n",
              "      --hover-fill-color: #174EA6;\n",
              "      --disabled-fill-color: #AAA;\n",
              "      --disabled-bg-color: #DDD;\n",
              "  }\n",
              "\n",
              "  [theme=dark] .colab-df-quickchart {\n",
              "      --bg-color: #3B4455;\n",
              "      --fill-color: #D2E3FC;\n",
              "      --hover-bg-color: #434B5C;\n",
              "      --hover-fill-color: #FFFFFF;\n",
              "      --disabled-bg-color: #3B4455;\n",
              "      --disabled-fill-color: #666;\n",
              "  }\n",
              "\n",
              "  .colab-df-quickchart {\n",
              "    background-color: var(--bg-color);\n",
              "    border: none;\n",
              "    border-radius: 50%;\n",
              "    cursor: pointer;\n",
              "    display: none;\n",
              "    fill: var(--fill-color);\n",
              "    height: 32px;\n",
              "    padding: 0;\n",
              "    width: 32px;\n",
              "  }\n",
              "\n",
              "  .colab-df-quickchart:hover {\n",
              "    background-color: var(--hover-bg-color);\n",
              "    box-shadow: 0 1px 2px rgba(60, 64, 67, 0.3), 0 1px 3px 1px rgba(60, 64, 67, 0.15);\n",
              "    fill: var(--button-hover-fill-color);\n",
              "  }\n",
              "\n",
              "  .colab-df-quickchart-complete:disabled,\n",
              "  .colab-df-quickchart-complete:disabled:hover {\n",
              "    background-color: var(--disabled-bg-color);\n",
              "    fill: var(--disabled-fill-color);\n",
              "    box-shadow: none;\n",
              "  }\n",
              "\n",
              "  .colab-df-spinner {\n",
              "    border: 2px solid var(--fill-color);\n",
              "    border-color: transparent;\n",
              "    border-bottom-color: var(--fill-color);\n",
              "    animation:\n",
              "      spin 1s steps(1) infinite;\n",
              "  }\n",
              "\n",
              "  @keyframes spin {\n",
              "    0% {\n",
              "      border-color: transparent;\n",
              "      border-bottom-color: var(--fill-color);\n",
              "      border-left-color: var(--fill-color);\n",
              "    }\n",
              "    20% {\n",
              "      border-color: transparent;\n",
              "      border-left-color: var(--fill-color);\n",
              "      border-top-color: var(--fill-color);\n",
              "    }\n",
              "    30% {\n",
              "      border-color: transparent;\n",
              "      border-left-color: var(--fill-color);\n",
              "      border-top-color: var(--fill-color);\n",
              "      border-right-color: var(--fill-color);\n",
              "    }\n",
              "    40% {\n",
              "      border-color: transparent;\n",
              "      border-right-color: var(--fill-color);\n",
              "      border-top-color: var(--fill-color);\n",
              "    }\n",
              "    60% {\n",
              "      border-color: transparent;\n",
              "      border-right-color: var(--fill-color);\n",
              "    }\n",
              "    80% {\n",
              "      border-color: transparent;\n",
              "      border-right-color: var(--fill-color);\n",
              "      border-bottom-color: var(--fill-color);\n",
              "    }\n",
              "    90% {\n",
              "      border-color: transparent;\n",
              "      border-bottom-color: var(--fill-color);\n",
              "    }\n",
              "  }\n",
              "</style>\n",
              "\n",
              "  <script>\n",
              "    async function quickchart(key) {\n",
              "      const quickchartButtonEl =\n",
              "        document.querySelector('#' + key + ' button');\n",
              "      quickchartButtonEl.disabled = true;  // To prevent multiple clicks.\n",
              "      quickchartButtonEl.classList.add('colab-df-spinner');\n",
              "      try {\n",
              "        const charts = await google.colab.kernel.invokeFunction(\n",
              "            'suggestCharts', [key], {});\n",
              "      } catch (error) {\n",
              "        console.error('Error during call to suggestCharts:', error);\n",
              "      }\n",
              "      quickchartButtonEl.classList.remove('colab-df-spinner');\n",
              "      quickchartButtonEl.classList.add('colab-df-quickchart-complete');\n",
              "    }\n",
              "    (() => {\n",
              "      let quickchartButtonEl =\n",
              "        document.querySelector('#df-9f4b6d01-3655-41af-a25a-d57b9c012e84 button');\n",
              "      quickchartButtonEl.style.display =\n",
              "        google.colab.kernel.accessAllowed ? 'block' : 'none';\n",
              "    })();\n",
              "  </script>\n",
              "</div>\n",
              "\n",
              "  <div id=\"id_c12f1b42-59a9-4bd0-85d5-070162e05d14\">\n",
              "    <style>\n",
              "      .colab-df-generate {\n",
              "        background-color: #E8F0FE;\n",
              "        border: none;\n",
              "        border-radius: 50%;\n",
              "        cursor: pointer;\n",
              "        display: none;\n",
              "        fill: #1967D2;\n",
              "        height: 32px;\n",
              "        padding: 0 0 0 0;\n",
              "        width: 32px;\n",
              "      }\n",
              "\n",
              "      .colab-df-generate:hover {\n",
              "        background-color: #E2EBFA;\n",
              "        box-shadow: 0px 1px 2px rgba(60, 64, 67, 0.3), 0px 1px 3px 1px rgba(60, 64, 67, 0.15);\n",
              "        fill: #174EA6;\n",
              "      }\n",
              "\n",
              "      [theme=dark] .colab-df-generate {\n",
              "        background-color: #3B4455;\n",
              "        fill: #D2E3FC;\n",
              "      }\n",
              "\n",
              "      [theme=dark] .colab-df-generate:hover {\n",
              "        background-color: #434B5C;\n",
              "        box-shadow: 0px 1px 3px 1px rgba(0, 0, 0, 0.15);\n",
              "        filter: drop-shadow(0px 1px 2px rgba(0, 0, 0, 0.3));\n",
              "        fill: #FFFFFF;\n",
              "      }\n",
              "    </style>\n",
              "    <button class=\"colab-df-generate\" onclick=\"generateWithVariable('df')\"\n",
              "            title=\"Generate code using this dataframe.\"\n",
              "            style=\"display:none;\">\n",
              "\n",
              "  <svg xmlns=\"http://www.w3.org/2000/svg\" height=\"24px\"viewBox=\"0 0 24 24\"\n",
              "       width=\"24px\">\n",
              "    <path d=\"M7,19H8.4L18.45,9,17,7.55,7,17.6ZM5,21V16.75L18.45,3.32a2,2,0,0,1,2.83,0l1.4,1.43a1.91,1.91,0,0,1,.58,1.4,1.91,1.91,0,0,1-.58,1.4L9.25,21ZM18.45,9,17,7.55Zm-12,3A5.31,5.31,0,0,0,4.9,8.1,5.31,5.31,0,0,0,1,6.5,5.31,5.31,0,0,0,4.9,4.9,5.31,5.31,0,0,0,6.5,1,5.31,5.31,0,0,0,8.1,4.9,5.31,5.31,0,0,0,12,6.5,5.46,5.46,0,0,0,6.5,12Z\"/>\n",
              "  </svg>\n",
              "    </button>\n",
              "    <script>\n",
              "      (() => {\n",
              "      const buttonEl =\n",
              "        document.querySelector('#id_c12f1b42-59a9-4bd0-85d5-070162e05d14 button.colab-df-generate');\n",
              "      buttonEl.style.display =\n",
              "        google.colab.kernel.accessAllowed ? 'block' : 'none';\n",
              "\n",
              "      buttonEl.onclick = () => {\n",
              "        google.colab.notebook.generateWithVariable('df');\n",
              "      }\n",
              "      })();\n",
              "    </script>\n",
              "  </div>\n",
              "\n",
              "    </div>\n",
              "  </div>\n"
            ],
            "application/vnd.google.colaboratory.intrinsic+json": {
              "type": "dataframe",
              "variable_name": "df",
              "summary": "{\n  \"name\": \"df\",\n  \"rows\": 4,\n  \"fields\": [\n    {\n      \"column\": \"Fullname\",\n      \"properties\": {\n        \"dtype\": \"string\",\n        \"num_unique_values\": 4,\n        \"samples\": [\n          \"Sam Sonite\",\n          \"Felonius Gru\",\n          \"Pitch Wiratch\"\n        ],\n        \"semantic_type\": \"\",\n        \"description\": \"\"\n      }\n    },\n    {\n      \"column\": \"Birthdate\",\n      \"properties\": {\n        \"dtype\": \"object\",\n        \"num_unique_values\": 4,\n        \"samples\": [\n          \"10/03/1910\",\n          \"28/09/1960\",\n          \"15/05/2015\"\n        ],\n        \"semantic_type\": \"\",\n        \"description\": \"\"\n      }\n    },\n    {\n      \"column\": \"Address\",\n      \"properties\": {\n        \"dtype\": \"string\",\n        \"num_unique_values\": 4,\n        \"samples\": [\n          \"13-15 avenue de la Libert\\u00e9, Luxembourg, 1931\",\n          \"1234 Albuquerque, New Mexico, USA, 87777\",\n          \"555 KKU Village, Khon Kaen, Thailand, 40000\"\n        ],\n        \"semantic_type\": \"\",\n        \"description\": \"\"\n      }\n    }\n  ]\n}"
            }
          },
          "metadata": {},
          "execution_count": 31
        }
      ],
      "source": [
        "import pandas as pd\n",
        "df = pd.DataFrame({\"Fullname\": [\"Pitch Wiratch\", \"Sam Sonite\", \"Mickey Mouse\", \"Felonius Gru\"],\n",
        "                   \"Birthdate\": [\"15/05/2015\", \"10/03/1910\", \"18/11/1928\", \"28/09/1960\"],\n",
        "                   \"Address\": [\"555 KKU Village, Khon Kaen, Thailand, 40000\",\n",
        "                               \"13-15 avenue de la Liberté, Luxembourg, 1931\",\n",
        "                               \"1375 Lake Buena Vista, FL, USA, 32830\",\n",
        "                               \"1234 Albuquerque, New Mexico, USA, 87777\"]})\n",
        "df"
      ]
    },
    {
      "cell_type": "code",
      "source": [
        "# สร้าง Firstname กับ Lastname\n",
        "df[['Firstname', 'Lastname']] = df['Fullname'].str.split(' ', expand=True)"
      ],
      "metadata": {
        "id": "1jMb4apWKSS4"
      },
      "execution_count": 32,
      "outputs": []
    },
    {
      "cell_type": "code",
      "source": [
        "print(df[['Firstname', 'Lastname']])"
      ],
      "metadata": {
        "colab": {
          "base_uri": "https://localhost:8080/"
        },
        "id": "KmAVqgERKo-9",
        "outputId": "f670411d-6f43-4b51-c517-d1c9ec156214"
      },
      "execution_count": 33,
      "outputs": [
        {
          "output_type": "stream",
          "name": "stdout",
          "text": [
            "  Firstname Lastname\n",
            "0     Pitch  Wiratch\n",
            "1       Sam   Sonite\n",
            "2    Mickey    Mouse\n",
            "3  Felonius      Gru\n"
          ]
        }
      ]
    },
    {
      "cell_type": "code",
      "source": [
        "# แปลง birthdate เป็น datetime\n",
        "df['Birthdate'] = pd.to_datetime(df['Birthdate'], format='%d/%m/%Y')\n",
        "\n",
        "# weekday ใน birthday\n",
        "df['Weekday'] = df['Birthdate'].dt.day_name()\n",
        "\n",
        "# แสดงผล\n",
        "print(df[['Firstname', 'Lastname', 'Weekday']])"
      ],
      "metadata": {
        "colab": {
          "base_uri": "https://localhost:8080/"
        },
        "id": "h5nlM9IxK90E",
        "outputId": "92dc99b5-b7bb-489d-b8d1-b024b9e2f062"
      },
      "execution_count": 34,
      "outputs": [
        {
          "output_type": "stream",
          "name": "stdout",
          "text": [
            "  Firstname Lastname    Weekday\n",
            "0     Pitch  Wiratch     Friday\n",
            "1       Sam   Sonite   Thursday\n",
            "2    Mickey    Mouse     Sunday\n",
            "3  Felonius      Gru  Wednesday\n"
          ]
        }
      ]
    },
    {
      "cell_type": "code",
      "source": [
        "# แยกประเทศออกจากที่อยู่(Address)\n",
        "df['Country']=df['Address'].str.split(',').str[-2]\n",
        "df"
      ],
      "metadata": {
        "colab": {
          "base_uri": "https://localhost:8080/",
          "height": 175
        },
        "id": "Dhl2My2kMBg5",
        "outputId": "5cdd100b-3bdb-43c3-99d4-78d9778981ba"
      },
      "execution_count": 35,
      "outputs": [
        {
          "output_type": "execute_result",
          "data": {
            "text/plain": [
              "        Fullname  Birthdate                                       Address  \\\n",
              "0  Pitch Wiratch 2015-05-15   555 KKU Village, Khon Kaen, Thailand, 40000   \n",
              "1     Sam Sonite 1910-03-10  13-15 avenue de la Liberté, Luxembourg, 1931   \n",
              "2   Mickey Mouse 1928-11-18         1375 Lake Buena Vista, FL, USA, 32830   \n",
              "3   Felonius Gru 1960-09-28      1234 Albuquerque, New Mexico, USA, 87777   \n",
              "\n",
              "  Firstname Lastname    Weekday      Country  \n",
              "0     Pitch  Wiratch     Friday     Thailand  \n",
              "1       Sam   Sonite   Thursday   Luxembourg  \n",
              "2    Mickey    Mouse     Sunday          USA  \n",
              "3  Felonius      Gru  Wednesday          USA  "
            ],
            "text/html": [
              "\n",
              "  <div id=\"df-b820beaa-40ff-4b20-a768-b385c130cf0c\" class=\"colab-df-container\">\n",
              "    <div>\n",
              "<style scoped>\n",
              "    .dataframe tbody tr th:only-of-type {\n",
              "        vertical-align: middle;\n",
              "    }\n",
              "\n",
              "    .dataframe tbody tr th {\n",
              "        vertical-align: top;\n",
              "    }\n",
              "\n",
              "    .dataframe thead th {\n",
              "        text-align: right;\n",
              "    }\n",
              "</style>\n",
              "<table border=\"1\" class=\"dataframe\">\n",
              "  <thead>\n",
              "    <tr style=\"text-align: right;\">\n",
              "      <th></th>\n",
              "      <th>Fullname</th>\n",
              "      <th>Birthdate</th>\n",
              "      <th>Address</th>\n",
              "      <th>Firstname</th>\n",
              "      <th>Lastname</th>\n",
              "      <th>Weekday</th>\n",
              "      <th>Country</th>\n",
              "    </tr>\n",
              "  </thead>\n",
              "  <tbody>\n",
              "    <tr>\n",
              "      <th>0</th>\n",
              "      <td>Pitch Wiratch</td>\n",
              "      <td>2015-05-15</td>\n",
              "      <td>555 KKU Village, Khon Kaen, Thailand, 40000</td>\n",
              "      <td>Pitch</td>\n",
              "      <td>Wiratch</td>\n",
              "      <td>Friday</td>\n",
              "      <td>Thailand</td>\n",
              "    </tr>\n",
              "    <tr>\n",
              "      <th>1</th>\n",
              "      <td>Sam Sonite</td>\n",
              "      <td>1910-03-10</td>\n",
              "      <td>13-15 avenue de la Liberté, Luxembourg, 1931</td>\n",
              "      <td>Sam</td>\n",
              "      <td>Sonite</td>\n",
              "      <td>Thursday</td>\n",
              "      <td>Luxembourg</td>\n",
              "    </tr>\n",
              "    <tr>\n",
              "      <th>2</th>\n",
              "      <td>Mickey Mouse</td>\n",
              "      <td>1928-11-18</td>\n",
              "      <td>1375 Lake Buena Vista, FL, USA, 32830</td>\n",
              "      <td>Mickey</td>\n",
              "      <td>Mouse</td>\n",
              "      <td>Sunday</td>\n",
              "      <td>USA</td>\n",
              "    </tr>\n",
              "    <tr>\n",
              "      <th>3</th>\n",
              "      <td>Felonius Gru</td>\n",
              "      <td>1960-09-28</td>\n",
              "      <td>1234 Albuquerque, New Mexico, USA, 87777</td>\n",
              "      <td>Felonius</td>\n",
              "      <td>Gru</td>\n",
              "      <td>Wednesday</td>\n",
              "      <td>USA</td>\n",
              "    </tr>\n",
              "  </tbody>\n",
              "</table>\n",
              "</div>\n",
              "    <div class=\"colab-df-buttons\">\n",
              "\n",
              "  <div class=\"colab-df-container\">\n",
              "    <button class=\"colab-df-convert\" onclick=\"convertToInteractive('df-b820beaa-40ff-4b20-a768-b385c130cf0c')\"\n",
              "            title=\"Convert this dataframe to an interactive table.\"\n",
              "            style=\"display:none;\">\n",
              "\n",
              "  <svg xmlns=\"http://www.w3.org/2000/svg\" height=\"24px\" viewBox=\"0 -960 960 960\">\n",
              "    <path d=\"M120-120v-720h720v720H120Zm60-500h600v-160H180v160Zm220 220h160v-160H400v160Zm0 220h160v-160H400v160ZM180-400h160v-160H180v160Zm440 0h160v-160H620v160ZM180-180h160v-160H180v160Zm440 0h160v-160H620v160Z\"/>\n",
              "  </svg>\n",
              "    </button>\n",
              "\n",
              "  <style>\n",
              "    .colab-df-container {\n",
              "      display:flex;\n",
              "      gap: 12px;\n",
              "    }\n",
              "\n",
              "    .colab-df-convert {\n",
              "      background-color: #E8F0FE;\n",
              "      border: none;\n",
              "      border-radius: 50%;\n",
              "      cursor: pointer;\n",
              "      display: none;\n",
              "      fill: #1967D2;\n",
              "      height: 32px;\n",
              "      padding: 0 0 0 0;\n",
              "      width: 32px;\n",
              "    }\n",
              "\n",
              "    .colab-df-convert:hover {\n",
              "      background-color: #E2EBFA;\n",
              "      box-shadow: 0px 1px 2px rgba(60, 64, 67, 0.3), 0px 1px 3px 1px rgba(60, 64, 67, 0.15);\n",
              "      fill: #174EA6;\n",
              "    }\n",
              "\n",
              "    .colab-df-buttons div {\n",
              "      margin-bottom: 4px;\n",
              "    }\n",
              "\n",
              "    [theme=dark] .colab-df-convert {\n",
              "      background-color: #3B4455;\n",
              "      fill: #D2E3FC;\n",
              "    }\n",
              "\n",
              "    [theme=dark] .colab-df-convert:hover {\n",
              "      background-color: #434B5C;\n",
              "      box-shadow: 0px 1px 3px 1px rgba(0, 0, 0, 0.15);\n",
              "      filter: drop-shadow(0px 1px 2px rgba(0, 0, 0, 0.3));\n",
              "      fill: #FFFFFF;\n",
              "    }\n",
              "  </style>\n",
              "\n",
              "    <script>\n",
              "      const buttonEl =\n",
              "        document.querySelector('#df-b820beaa-40ff-4b20-a768-b385c130cf0c button.colab-df-convert');\n",
              "      buttonEl.style.display =\n",
              "        google.colab.kernel.accessAllowed ? 'block' : 'none';\n",
              "\n",
              "      async function convertToInteractive(key) {\n",
              "        const element = document.querySelector('#df-b820beaa-40ff-4b20-a768-b385c130cf0c');\n",
              "        const dataTable =\n",
              "          await google.colab.kernel.invokeFunction('convertToInteractive',\n",
              "                                                    [key], {});\n",
              "        if (!dataTable) return;\n",
              "\n",
              "        const docLinkHtml = 'Like what you see? Visit the ' +\n",
              "          '<a target=\"_blank\" href=https://colab.research.google.com/notebooks/data_table.ipynb>data table notebook</a>'\n",
              "          + ' to learn more about interactive tables.';\n",
              "        element.innerHTML = '';\n",
              "        dataTable['output_type'] = 'display_data';\n",
              "        await google.colab.output.renderOutput(dataTable, element);\n",
              "        const docLink = document.createElement('div');\n",
              "        docLink.innerHTML = docLinkHtml;\n",
              "        element.appendChild(docLink);\n",
              "      }\n",
              "    </script>\n",
              "  </div>\n",
              "\n",
              "\n",
              "<div id=\"df-10cfc2c5-7e2a-40a9-8d1e-59bbb5fedc1d\">\n",
              "  <button class=\"colab-df-quickchart\" onclick=\"quickchart('df-10cfc2c5-7e2a-40a9-8d1e-59bbb5fedc1d')\"\n",
              "            title=\"Suggest charts\"\n",
              "            style=\"display:none;\">\n",
              "\n",
              "<svg xmlns=\"http://www.w3.org/2000/svg\" height=\"24px\"viewBox=\"0 0 24 24\"\n",
              "     width=\"24px\">\n",
              "    <g>\n",
              "        <path d=\"M19 3H5c-1.1 0-2 .9-2 2v14c0 1.1.9 2 2 2h14c1.1 0 2-.9 2-2V5c0-1.1-.9-2-2-2zM9 17H7v-7h2v7zm4 0h-2V7h2v10zm4 0h-2v-4h2v4z\"/>\n",
              "    </g>\n",
              "</svg>\n",
              "  </button>\n",
              "\n",
              "<style>\n",
              "  .colab-df-quickchart {\n",
              "      --bg-color: #E8F0FE;\n",
              "      --fill-color: #1967D2;\n",
              "      --hover-bg-color: #E2EBFA;\n",
              "      --hover-fill-color: #174EA6;\n",
              "      --disabled-fill-color: #AAA;\n",
              "      --disabled-bg-color: #DDD;\n",
              "  }\n",
              "\n",
              "  [theme=dark] .colab-df-quickchart {\n",
              "      --bg-color: #3B4455;\n",
              "      --fill-color: #D2E3FC;\n",
              "      --hover-bg-color: #434B5C;\n",
              "      --hover-fill-color: #FFFFFF;\n",
              "      --disabled-bg-color: #3B4455;\n",
              "      --disabled-fill-color: #666;\n",
              "  }\n",
              "\n",
              "  .colab-df-quickchart {\n",
              "    background-color: var(--bg-color);\n",
              "    border: none;\n",
              "    border-radius: 50%;\n",
              "    cursor: pointer;\n",
              "    display: none;\n",
              "    fill: var(--fill-color);\n",
              "    height: 32px;\n",
              "    padding: 0;\n",
              "    width: 32px;\n",
              "  }\n",
              "\n",
              "  .colab-df-quickchart:hover {\n",
              "    background-color: var(--hover-bg-color);\n",
              "    box-shadow: 0 1px 2px rgba(60, 64, 67, 0.3), 0 1px 3px 1px rgba(60, 64, 67, 0.15);\n",
              "    fill: var(--button-hover-fill-color);\n",
              "  }\n",
              "\n",
              "  .colab-df-quickchart-complete:disabled,\n",
              "  .colab-df-quickchart-complete:disabled:hover {\n",
              "    background-color: var(--disabled-bg-color);\n",
              "    fill: var(--disabled-fill-color);\n",
              "    box-shadow: none;\n",
              "  }\n",
              "\n",
              "  .colab-df-spinner {\n",
              "    border: 2px solid var(--fill-color);\n",
              "    border-color: transparent;\n",
              "    border-bottom-color: var(--fill-color);\n",
              "    animation:\n",
              "      spin 1s steps(1) infinite;\n",
              "  }\n",
              "\n",
              "  @keyframes spin {\n",
              "    0% {\n",
              "      border-color: transparent;\n",
              "      border-bottom-color: var(--fill-color);\n",
              "      border-left-color: var(--fill-color);\n",
              "    }\n",
              "    20% {\n",
              "      border-color: transparent;\n",
              "      border-left-color: var(--fill-color);\n",
              "      border-top-color: var(--fill-color);\n",
              "    }\n",
              "    30% {\n",
              "      border-color: transparent;\n",
              "      border-left-color: var(--fill-color);\n",
              "      border-top-color: var(--fill-color);\n",
              "      border-right-color: var(--fill-color);\n",
              "    }\n",
              "    40% {\n",
              "      border-color: transparent;\n",
              "      border-right-color: var(--fill-color);\n",
              "      border-top-color: var(--fill-color);\n",
              "    }\n",
              "    60% {\n",
              "      border-color: transparent;\n",
              "      border-right-color: var(--fill-color);\n",
              "    }\n",
              "    80% {\n",
              "      border-color: transparent;\n",
              "      border-right-color: var(--fill-color);\n",
              "      border-bottom-color: var(--fill-color);\n",
              "    }\n",
              "    90% {\n",
              "      border-color: transparent;\n",
              "      border-bottom-color: var(--fill-color);\n",
              "    }\n",
              "  }\n",
              "</style>\n",
              "\n",
              "  <script>\n",
              "    async function quickchart(key) {\n",
              "      const quickchartButtonEl =\n",
              "        document.querySelector('#' + key + ' button');\n",
              "      quickchartButtonEl.disabled = true;  // To prevent multiple clicks.\n",
              "      quickchartButtonEl.classList.add('colab-df-spinner');\n",
              "      try {\n",
              "        const charts = await google.colab.kernel.invokeFunction(\n",
              "            'suggestCharts', [key], {});\n",
              "      } catch (error) {\n",
              "        console.error('Error during call to suggestCharts:', error);\n",
              "      }\n",
              "      quickchartButtonEl.classList.remove('colab-df-spinner');\n",
              "      quickchartButtonEl.classList.add('colab-df-quickchart-complete');\n",
              "    }\n",
              "    (() => {\n",
              "      let quickchartButtonEl =\n",
              "        document.querySelector('#df-10cfc2c5-7e2a-40a9-8d1e-59bbb5fedc1d button');\n",
              "      quickchartButtonEl.style.display =\n",
              "        google.colab.kernel.accessAllowed ? 'block' : 'none';\n",
              "    })();\n",
              "  </script>\n",
              "</div>\n",
              "\n",
              "  <div id=\"id_b16f7934-61ed-4c91-9008-8914def59d55\">\n",
              "    <style>\n",
              "      .colab-df-generate {\n",
              "        background-color: #E8F0FE;\n",
              "        border: none;\n",
              "        border-radius: 50%;\n",
              "        cursor: pointer;\n",
              "        display: none;\n",
              "        fill: #1967D2;\n",
              "        height: 32px;\n",
              "        padding: 0 0 0 0;\n",
              "        width: 32px;\n",
              "      }\n",
              "\n",
              "      .colab-df-generate:hover {\n",
              "        background-color: #E2EBFA;\n",
              "        box-shadow: 0px 1px 2px rgba(60, 64, 67, 0.3), 0px 1px 3px 1px rgba(60, 64, 67, 0.15);\n",
              "        fill: #174EA6;\n",
              "      }\n",
              "\n",
              "      [theme=dark] .colab-df-generate {\n",
              "        background-color: #3B4455;\n",
              "        fill: #D2E3FC;\n",
              "      }\n",
              "\n",
              "      [theme=dark] .colab-df-generate:hover {\n",
              "        background-color: #434B5C;\n",
              "        box-shadow: 0px 1px 3px 1px rgba(0, 0, 0, 0.15);\n",
              "        filter: drop-shadow(0px 1px 2px rgba(0, 0, 0, 0.3));\n",
              "        fill: #FFFFFF;\n",
              "      }\n",
              "    </style>\n",
              "    <button class=\"colab-df-generate\" onclick=\"generateWithVariable('df')\"\n",
              "            title=\"Generate code using this dataframe.\"\n",
              "            style=\"display:none;\">\n",
              "\n",
              "  <svg xmlns=\"http://www.w3.org/2000/svg\" height=\"24px\"viewBox=\"0 0 24 24\"\n",
              "       width=\"24px\">\n",
              "    <path d=\"M7,19H8.4L18.45,9,17,7.55,7,17.6ZM5,21V16.75L18.45,3.32a2,2,0,0,1,2.83,0l1.4,1.43a1.91,1.91,0,0,1,.58,1.4,1.91,1.91,0,0,1-.58,1.4L9.25,21ZM18.45,9,17,7.55Zm-12,3A5.31,5.31,0,0,0,4.9,8.1,5.31,5.31,0,0,0,1,6.5,5.31,5.31,0,0,0,4.9,4.9,5.31,5.31,0,0,0,6.5,1,5.31,5.31,0,0,0,8.1,4.9,5.31,5.31,0,0,0,12,6.5,5.46,5.46,0,0,0,6.5,12Z\"/>\n",
              "  </svg>\n",
              "    </button>\n",
              "    <script>\n",
              "      (() => {\n",
              "      const buttonEl =\n",
              "        document.querySelector('#id_b16f7934-61ed-4c91-9008-8914def59d55 button.colab-df-generate');\n",
              "      buttonEl.style.display =\n",
              "        google.colab.kernel.accessAllowed ? 'block' : 'none';\n",
              "\n",
              "      buttonEl.onclick = () => {\n",
              "        google.colab.notebook.generateWithVariable('df');\n",
              "      }\n",
              "      })();\n",
              "    </script>\n",
              "  </div>\n",
              "\n",
              "    </div>\n",
              "  </div>\n"
            ],
            "application/vnd.google.colaboratory.intrinsic+json": {
              "type": "dataframe",
              "variable_name": "df",
              "summary": "{\n  \"name\": \"df\",\n  \"rows\": 4,\n  \"fields\": [\n    {\n      \"column\": \"Fullname\",\n      \"properties\": {\n        \"dtype\": \"string\",\n        \"num_unique_values\": 4,\n        \"samples\": [\n          \"Sam Sonite\",\n          \"Felonius Gru\",\n          \"Pitch Wiratch\"\n        ],\n        \"semantic_type\": \"\",\n        \"description\": \"\"\n      }\n    },\n    {\n      \"column\": \"Birthdate\",\n      \"properties\": {\n        \"dtype\": \"date\",\n        \"min\": \"1910-03-10 00:00:00\",\n        \"max\": \"2015-05-15 00:00:00\",\n        \"num_unique_values\": 4,\n        \"samples\": [\n          \"1910-03-10 00:00:00\",\n          \"1960-09-28 00:00:00\",\n          \"2015-05-15 00:00:00\"\n        ],\n        \"semantic_type\": \"\",\n        \"description\": \"\"\n      }\n    },\n    {\n      \"column\": \"Address\",\n      \"properties\": {\n        \"dtype\": \"string\",\n        \"num_unique_values\": 4,\n        \"samples\": [\n          \"13-15 avenue de la Libert\\u00e9, Luxembourg, 1931\",\n          \"1234 Albuquerque, New Mexico, USA, 87777\",\n          \"555 KKU Village, Khon Kaen, Thailand, 40000\"\n        ],\n        \"semantic_type\": \"\",\n        \"description\": \"\"\n      }\n    },\n    {\n      \"column\": \"Firstname\",\n      \"properties\": {\n        \"dtype\": \"string\",\n        \"num_unique_values\": 4,\n        \"samples\": [\n          \"Sam\",\n          \"Felonius\",\n          \"Pitch\"\n        ],\n        \"semantic_type\": \"\",\n        \"description\": \"\"\n      }\n    },\n    {\n      \"column\": \"Lastname\",\n      \"properties\": {\n        \"dtype\": \"string\",\n        \"num_unique_values\": 4,\n        \"samples\": [\n          \"Sonite\",\n          \"Gru\",\n          \"Wiratch\"\n        ],\n        \"semantic_type\": \"\",\n        \"description\": \"\"\n      }\n    },\n    {\n      \"column\": \"Weekday\",\n      \"properties\": {\n        \"dtype\": \"string\",\n        \"num_unique_values\": 4,\n        \"samples\": [\n          \"Thursday\",\n          \"Wednesday\",\n          \"Friday\"\n        ],\n        \"semantic_type\": \"\",\n        \"description\": \"\"\n      }\n    },\n    {\n      \"column\": \"Country\",\n      \"properties\": {\n        \"dtype\": \"string\",\n        \"num_unique_values\": 3,\n        \"samples\": [\n          \" Thailand\",\n          \" Luxembourg\",\n          \" USA\"\n        ],\n        \"semantic_type\": \"\",\n        \"description\": \"\"\n      }\n    }\n  ]\n}"
            }
          },
          "metadata": {},
          "execution_count": 35
        }
      ]
    },
    {
      "cell_type": "markdown",
      "source": [
        "\n",
        "\n",
        "---\n",
        "\n"
      ],
      "metadata": {
        "id": "y5HYZzncNg4u"
      }
    },
    {
      "cell_type": "markdown",
      "metadata": {
        "id": "s3J7WMDJkpS_"
      },
      "source": [
        "4) ให้คัดแยกอีเมลทั้งหมดจากข้อความต่อไปนี้"
      ]
    },
    {
      "cell_type": "code",
      "execution_count": 36,
      "metadata": {
        "colab": {
          "base_uri": "https://localhost:8080/"
        },
        "id": "hA_3EDQClP1L",
        "outputId": "29b353b4-2a14-40a7-d2ae-157ecf937426"
      },
      "outputs": [
        {
          "output_type": "stream",
          "name": "stdout",
          "text": [
            "In the heart of the city, Emily navigated daily chaos in her bustling office. \n",
            "Every morning, Emily boarded a bus from redline@bus.com, finding solace in the routine. \n",
            "Amid the rhythmic motion of the bus, she exchanged tired smiles with fellow passengers, \n",
            "whose email addresses are jason.patel@gmail.com, redpanda123@hotmail.com, and chachacha555@kkumail.com. \n",
            "Conversations buzzed about projects and deadlines, creating a unique camaraderie.\n"
          ]
        }
      ],
      "source": [
        "text = \"In the heart of the city, Emily navigated daily chaos in her bustling office. \\nEvery morning, Emily boarded a bus from redline@bus.com, finding solace in the routine. \\nAmid the rhythmic motion of the bus, she exchanged tired smiles with fellow passengers, \\nwhose email addresses are jason.patel@gmail.com, redpanda123@hotmail.com, and chachacha555@kkumail.com. \\nConversations buzzed about projects and deadlines, creating a unique camaraderie.\"\n",
        "print(text)"
      ]
    },
    {
      "cell_type": "code",
      "source": [
        "# คัดแยกอีเมลทั้งหมดจากข้อความ\n",
        "emails = re.findall(r'\\b[A-Za-z0-9._%+-]+@[A-Za-z0-9.-]+\\.[A-Z|a-z]{2,}\\b', text)\n",
        "print(emails)"
      ],
      "metadata": {
        "colab": {
          "base_uri": "https://localhost:8080/"
        },
        "id": "HfLfFO3LO9W8",
        "outputId": "361689b8-30db-49fc-e861-6eee07ffe892"
      },
      "execution_count": 37,
      "outputs": [
        {
          "output_type": "stream",
          "name": "stdout",
          "text": [
            "['redline@bus.com', 'jason.patel@gmail.com', 'redpanda123@hotmail.com', 'chachacha555@kkumail.com']\n"
          ]
        }
      ]
    },
    {
      "cell_type": "markdown",
      "source": [
        "\n",
        "\n",
        "---\n",
        "\n"
      ],
      "metadata": {
        "id": "h3c0rSJmQICQ"
      }
    },
    {
      "cell_type": "markdown",
      "metadata": {
        "id": "bSsqAVJWuHpR"
      },
      "source": [
        "5) สร้าง word tokens และ 2-gram และ 3-gram tokens จากข้อความต่อไปนี้"
      ]
    },
    {
      "cell_type": "code",
      "execution_count": 39,
      "metadata": {
        "colab": {
          "base_uri": "https://localhost:8080/"
        },
        "id": "0qswOPb3uOxf",
        "outputId": "e67461a1-b297-4153-942d-40e205476455"
      },
      "outputs": [
        {
          "output_type": "stream",
          "name": "stdout",
          "text": [
            "A day without a friend is like a pot without a single drop of honey.\n"
          ]
        }
      ],
      "source": [
        "pooh = \"A day without a friend is like a pot without a single drop of honey.\"\n",
        "print(pooh)"
      ]
    },
    {
      "cell_type": "code",
      "source": [
        "!pip install nltk"
      ],
      "metadata": {
        "colab": {
          "base_uri": "https://localhost:8080/"
        },
        "id": "3jayu_bVSVVv",
        "outputId": "922e56b0-dc49-4fbd-9584-58af452c56ce"
      },
      "execution_count": 41,
      "outputs": [
        {
          "output_type": "stream",
          "name": "stdout",
          "text": [
            "Requirement already satisfied: nltk in /usr/local/lib/python3.10/dist-packages (3.8.1)\n",
            "Requirement already satisfied: click in /usr/local/lib/python3.10/dist-packages (from nltk) (8.1.7)\n",
            "Requirement already satisfied: joblib in /usr/local/lib/python3.10/dist-packages (from nltk) (1.4.2)\n",
            "Requirement already satisfied: regex>=2021.8.3 in /usr/local/lib/python3.10/dist-packages (from nltk) (2024.5.15)\n",
            "Requirement already satisfied: tqdm in /usr/local/lib/python3.10/dist-packages (from nltk) (4.66.5)\n"
          ]
        }
      ]
    },
    {
      "cell_type": "code",
      "source": [
        "import nltk"
      ],
      "metadata": {
        "id": "wJPEn61KSqLw"
      },
      "execution_count": 44,
      "outputs": []
    },
    {
      "cell_type": "code",
      "source": [
        "nltk.download('punkt')"
      ],
      "metadata": {
        "colab": {
          "base_uri": "https://localhost:8080/"
        },
        "id": "dPZAogsCSdFc",
        "outputId": "113083be-cf66-4a19-ae44-607b4c82d82a"
      },
      "execution_count": 45,
      "outputs": [
        {
          "output_type": "stream",
          "name": "stderr",
          "text": [
            "[nltk_data] Downloading package punkt to /root/nltk_data...\n",
            "[nltk_data]   Unzipping tokenizers/punkt.zip.\n"
          ]
        },
        {
          "output_type": "execute_result",
          "data": {
            "text/plain": [
              "True"
            ]
          },
          "metadata": {},
          "execution_count": 45
        }
      ]
    },
    {
      "cell_type": "code",
      "source": [
        "from nltk import word_tokenize"
      ],
      "metadata": {
        "id": "urcC0jBAUMGF"
      },
      "execution_count": 52,
      "outputs": []
    },
    {
      "cell_type": "code",
      "execution_count": 46,
      "metadata": {
        "id": "bf4bmxShuQH7",
        "colab": {
          "base_uri": "https://localhost:8080/"
        },
        "outputId": "dc882174-3007-4155-eede-eb1280daa67e"
      },
      "outputs": [
        {
          "output_type": "stream",
          "name": "stdout",
          "text": [
            "['A', 'day', 'without', 'a', 'friend', 'is', 'like', 'a', 'pot', 'without', 'a', 'single', 'drop', 'of', 'honey', '.']\n"
          ]
        }
      ],
      "source": [
        "# สร้าง word tokens\n",
        "tokens = word_tokenize(pooh)\n",
        "print(tokens)"
      ]
    },
    {
      "cell_type": "code",
      "source": [
        "# สร้าง 2-gram tokens\n",
        "from nltk import bigrams\n",
        "bigram_tokens = list(bigrams(tokens))\n",
        "print(bigram_tokens)"
      ],
      "metadata": {
        "colab": {
          "base_uri": "https://localhost:8080/"
        },
        "id": "W_XOSNWBSAGb",
        "outputId": "e062064b-28b7-4224-d1c9-dead62ca2f4b"
      },
      "execution_count": 47,
      "outputs": [
        {
          "output_type": "stream",
          "name": "stdout",
          "text": [
            "[('A', 'day'), ('day', 'without'), ('without', 'a'), ('a', 'friend'), ('friend', 'is'), ('is', 'like'), ('like', 'a'), ('a', 'pot'), ('pot', 'without'), ('without', 'a'), ('a', 'single'), ('single', 'drop'), ('drop', 'of'), ('of', 'honey'), ('honey', '.')]\n"
          ]
        }
      ]
    },
    {
      "cell_type": "code",
      "source": [
        "# สร้าง 3-gram tokens\n",
        "from nltk import trigrams\n",
        "trigram_tokens = list(trigrams(tokens))\n",
        "print(trigram_tokens)"
      ],
      "metadata": {
        "colab": {
          "base_uri": "https://localhost:8080/"
        },
        "id": "gpGntHGtSBzs",
        "outputId": "14a37a62-4b5a-49f1-9dcf-d23a4f809a13"
      },
      "execution_count": 48,
      "outputs": [
        {
          "output_type": "stream",
          "name": "stdout",
          "text": [
            "[('A', 'day', 'without'), ('day', 'without', 'a'), ('without', 'a', 'friend'), ('a', 'friend', 'is'), ('friend', 'is', 'like'), ('is', 'like', 'a'), ('like', 'a', 'pot'), ('a', 'pot', 'without'), ('pot', 'without', 'a'), ('without', 'a', 'single'), ('a', 'single', 'drop'), ('single', 'drop', 'of'), ('drop', 'of', 'honey'), ('of', 'honey', '.')]\n"
          ]
        }
      ]
    },
    {
      "cell_type": "markdown",
      "source": [
        "\n",
        "\n",
        "---\n",
        "\n"
      ],
      "metadata": {
        "id": "_s2Rpnd7Sz4B"
      }
    },
    {
      "cell_type": "markdown",
      "metadata": {
        "id": "kWVH48cjH1VN"
      },
      "source": [
        "6) ให้ทำการ stem และ lemmatize ข้อความต่อไปนี้"
      ]
    },
    {
      "cell_type": "code",
      "execution_count": 49,
      "metadata": {
        "colab": {
          "base_uri": "https://localhost:8080/"
        },
        "outputId": "a0bc1aa5-56ec-4ef1-93da-c432d4154bfc",
        "id": "9VY3jZULH1VN"
      },
      "outputs": [
        {
          "output_type": "stream",
          "name": "stdout",
          "text": [
            "A day without a friend is like a pot without a single drop of honey.\n"
          ]
        }
      ],
      "source": [
        "pooh = \"A day without a friend is like a pot without a single drop of honey.\"\n",
        "print(pooh)"
      ]
    },
    {
      "cell_type": "code",
      "source": [
        "nltk.download('wordnet')\n",
        "nltk.download('omw-1.4')\n",
        "nltk.download('averaged_perceptron_tagger')  # สำหรับ POS tagging\n",
        "from nltk.stem import PorterStemmer\n",
        "from nltk.stem import WordNetLemmatizer\n",
        "from nltk.corpus import wordnet"
      ],
      "metadata": {
        "colab": {
          "base_uri": "https://localhost:8080/"
        },
        "id": "FQt8vJyKTHCG",
        "outputId": "82b28701-7690-4bd6-ab31-f247e0ee2f81"
      },
      "execution_count": 55,
      "outputs": [
        {
          "output_type": "stream",
          "name": "stderr",
          "text": [
            "[nltk_data] Downloading package wordnet to /root/nltk_data...\n",
            "[nltk_data]   Package wordnet is already up-to-date!\n",
            "[nltk_data] Downloading package omw-1.4 to /root/nltk_data...\n",
            "[nltk_data]   Package omw-1.4 is already up-to-date!\n",
            "[nltk_data] Downloading package averaged_perceptron_tagger to\n",
            "[nltk_data]     /root/nltk_data...\n",
            "[nltk_data]   Unzipping taggers/averaged_perceptron_tagger.zip.\n"
          ]
        }
      ]
    },
    {
      "cell_type": "code",
      "source": [
        "# สร้าง word tokens\n",
        "tokens = word_tokenize(pooh)\n",
        "\n",
        "# สร้าง stemmer object\n",
        "stemmer = PorterStemmer()\n",
        "\n",
        "# ทำการ stem\n",
        "stemmed_tokens = [stemmer.stem(token) for token in tokens]\n",
        "print(\"Stemmed Tokens:\", stemmed_tokens)\n",
        "\n",
        "# สร้าง lemmatizer object\n",
        "lemmatizer = WordNetLemmatizer()\n",
        "\n",
        "# ฟังก์ชันสำหรับการแปลง POS tag เพื่อให้การ lemmatize มีความถูกต้องมากขึ้น\n",
        "def get_wordnet_pos(word):\n",
        "    tag = nltk.pos_tag([word])[0][1][0].upper()\n",
        "    tag_dict = {\"J\": wordnet.ADJ, \"N\": wordnet.NOUN, \"V\": wordnet.VERB, \"R\": wordnet.ADV}\n",
        "    return tag_dict.get(tag, wordnet.NOUN)\n",
        "\n",
        "# ทำการ lemmatize โดยแปลง POS tag\n",
        "lemmatized_tokens = [lemmatizer.lemmatize(token, get_wordnet_pos(token)) for token in tokens]\n",
        "print(\"Lemmatized Tokens:\", lemmatized_tokens)"
      ],
      "metadata": {
        "colab": {
          "base_uri": "https://localhost:8080/"
        },
        "id": "dxaov6BiS6lB",
        "outputId": "e3e4b4ba-000b-4a52-e443-b09441764b88"
      },
      "execution_count": 56,
      "outputs": [
        {
          "output_type": "stream",
          "name": "stdout",
          "text": [
            "Stemmed Tokens: ['a', 'day', 'without', 'a', 'friend', 'is', 'like', 'a', 'pot', 'without', 'a', 'singl', 'drop', 'of', 'honey', '.']\n",
            "Lemmatized Tokens: ['A', 'day', 'without', 'a', 'friend', 'be', 'like', 'a', 'pot', 'without', 'a', 'single', 'drop', 'of', 'honey', '.']\n"
          ]
        }
      ]
    },
    {
      "cell_type": "markdown",
      "source": [
        "\n",
        "\n",
        "---\n",
        "\n"
      ],
      "metadata": {
        "id": "qD44wNMGVXp_"
      }
    }
  ],
  "metadata": {
    "colab": {
      "provenance": [],
      "include_colab_link": true
    },
    "kernelspec": {
      "display_name": "Python 3 (ipykernel)",
      "language": "python",
      "name": "python3"
    },
    "language_info": {
      "codemirror_mode": {
        "name": "ipython",
        "version": 3
      },
      "file_extension": ".py",
      "mimetype": "text/x-python",
      "name": "python",
      "nbconvert_exporter": "python",
      "pygments_lexer": "ipython3",
      "version": "3.8.8"
    }
  },
  "nbformat": 4,
  "nbformat_minor": 0
}